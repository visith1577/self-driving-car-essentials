{
 "cells": [
  {
   "cell_type": "code",
   "execution_count": 1,
   "metadata": {
    "scrolled": true
   },
   "outputs": [
    {
     "name": "stdout",
     "output_type": "stream",
     "text": [
      "Collecting gradio\n",
      "  Downloading gradio-2.7.5.2-py3-none-any.whl (871 kB)\n",
      "Collecting aiohttp\n",
      "  Downloading aiohttp-3.8.1-cp38-cp38-win_amd64.whl (555 kB)\n",
      "Requirement already satisfied: pillow in c:\\users\\visit\\anaconda3\\lib\\site-packages (from gradio) (8.0.1)\n",
      "Collecting pycryptodome\n",
      "  Downloading pycryptodome-3.13.0-cp35-abi3-win_amd64.whl (1.8 MB)\n",
      "Collecting uvicorn\n",
      "  Downloading uvicorn-0.17.1-py3-none-any.whl (54 kB)\n",
      "Requirement already satisfied: pydub in c:\\users\\visit\\anaconda3\\lib\\site-packages (from gradio) (0.25.1)\n",
      "Collecting markdown2\n",
      "  Downloading markdown2-2.4.2-py2.py3-none-any.whl (34 kB)\n",
      "Requirement already satisfied: matplotlib in c:\\users\\visit\\anaconda3\\lib\\site-packages (from gradio) (3.3.2)\n",
      "Collecting fastapi\n",
      "  Downloading fastapi-0.73.0-py3-none-any.whl (52 kB)\n",
      "Requirement already satisfied: numpy in c:\\users\\visit\\anaconda3\\lib\\site-packages (from gradio) (1.19.2)\n",
      "Requirement already satisfied: requests in c:\\users\\visit\\anaconda3\\lib\\site-packages (from gradio) (2.24.0)\n",
      "Collecting analytics-python\n",
      "  Using cached analytics_python-1.4.0-py2.py3-none-any.whl (15 kB)\n",
      "Requirement already satisfied: paramiko in c:\\users\\visit\\anaconda3\\lib\\site-packages (from gradio) (2.7.2)\n",
      "Requirement already satisfied: pandas in c:\\users\\visit\\anaconda3\\lib\\site-packages (from gradio) (1.1.3)\n",
      "Processing c:\\users\\visit\\appdata\\local\\pip\\cache\\wheels\\ff\\5b\\59\\913b443e7369dc04b61f607a746b6f7d83fb65e2e19fcc958d\\ffmpy-0.3.0-py3-none-any.whl\n",
      "Collecting python-multipart\n",
      "  Using cached python-multipart-0.0.5.tar.gz (32 kB)\n",
      "Collecting frozenlist>=1.1.1\n",
      "  Downloading frozenlist-1.3.0-cp38-cp38-win_amd64.whl (33 kB)\n",
      "Collecting charset-normalizer<3.0,>=2.0\n",
      "  Downloading charset_normalizer-2.0.10-py3-none-any.whl (39 kB)\n",
      "Collecting yarl<2.0,>=1.0\n",
      "  Downloading yarl-1.7.2-cp38-cp38-win_amd64.whl (122 kB)\n",
      "Collecting async-timeout<5.0,>=4.0.0a3\n",
      "  Downloading async_timeout-4.0.2-py3-none-any.whl (5.8 kB)\n",
      "Collecting aiosignal>=1.1.2\n",
      "  Downloading aiosignal-1.2.0-py3-none-any.whl (8.2 kB)\n",
      "Requirement already satisfied: attrs>=17.3.0 in c:\\users\\visit\\anaconda3\\lib\\site-packages (from aiohttp->gradio) (20.3.0)\n",
      "Collecting multidict<7.0,>=4.5\n",
      "  Downloading multidict-6.0.2-cp38-cp38-win_amd64.whl (28 kB)\n",
      "Requirement already satisfied: h11>=0.8 in c:\\users\\visit\\anaconda3\\lib\\site-packages (from uvicorn->gradio) (0.12.0)\n",
      "Requirement already satisfied: click>=7.0 in c:\\users\\visit\\anaconda3\\lib\\site-packages (from uvicorn->gradio) (7.1.2)\n",
      "Collecting asgiref>=3.4.0\n",
      "  Downloading asgiref-3.5.0-py3-none-any.whl (22 kB)\n",
      "Requirement already satisfied: certifi>=2020.06.20 in c:\\users\\visit\\anaconda3\\lib\\site-packages (from matplotlib->gradio) (2021.5.30)\n",
      "Requirement already satisfied: python-dateutil>=2.1 in c:\\users\\visit\\anaconda3\\lib\\site-packages (from matplotlib->gradio) (2.8.1)\n",
      "Requirement already satisfied: cycler>=0.10 in c:\\users\\visit\\anaconda3\\lib\\site-packages (from matplotlib->gradio) (0.10.0)\n",
      "Requirement already satisfied: kiwisolver>=1.0.1 in c:\\users\\visit\\anaconda3\\lib\\site-packages (from matplotlib->gradio) (1.3.0)\n",
      "Requirement already satisfied: pyparsing!=2.0.4,!=2.1.2,!=2.1.6,>=2.0.3 in c:\\users\\visit\\anaconda3\\lib\\site-packages (from matplotlib->gradio) (2.4.7)\n",
      "Collecting starlette==0.17.1\n",
      "  Downloading starlette-0.17.1-py3-none-any.whl (58 kB)\n",
      "Requirement already satisfied: pydantic!=1.7,!=1.7.1,!=1.7.2,!=1.7.3,!=1.8,!=1.8.1,<2.0.0,>=1.6.2 in c:\\users\\visit\\anaconda3\\lib\\site-packages (from fastapi->gradio) (1.8.2)\n",
      "Requirement already satisfied: urllib3!=1.25.0,!=1.25.1,<1.26,>=1.21.1 in c:\\users\\visit\\anaconda3\\lib\\site-packages (from requests->gradio) (1.25.11)\n",
      "Requirement already satisfied: idna<3,>=2.5 in c:\\users\\visit\\anaconda3\\lib\\site-packages (from requests->gradio) (2.10)\n",
      "Requirement already satisfied: chardet<4,>=3.0.2 in c:\\users\\visit\\anaconda3\\lib\\site-packages (from requests->gradio) (3.0.4)\n",
      "Requirement already satisfied: six>=1.5 in c:\\users\\visit\\anaconda3\\lib\\site-packages (from analytics-python->gradio) (1.15.0)\n",
      "Collecting monotonic>=1.5\n",
      "  Using cached monotonic-1.6-py2.py3-none-any.whl (8.2 kB)\n",
      "Collecting backoff==1.10.0\n",
      "  Using cached backoff-1.10.0-py2.py3-none-any.whl (31 kB)\n",
      "Requirement already satisfied: bcrypt>=3.1.3 in c:\\users\\visit\\anaconda3\\lib\\site-packages (from paramiko->gradio) (3.2.0)\n",
      "Requirement already satisfied: pynacl>=1.0.1 in c:\\users\\visit\\anaconda3\\lib\\site-packages (from paramiko->gradio) (1.4.0)\n",
      "Requirement already satisfied: cryptography>=2.5 in c:\\users\\visit\\anaconda3\\lib\\site-packages (from paramiko->gradio) (3.1.1)\n",
      "Requirement already satisfied: pytz>=2017.2 in c:\\users\\visit\\anaconda3\\lib\\site-packages (from pandas->gradio) (2020.1)\n",
      "Collecting anyio<4,>=3.0.0\n",
      "  Downloading anyio-3.5.0-py3-none-any.whl (79 kB)\n",
      "Requirement already satisfied: typing-extensions>=3.7.4.3 in c:\\users\\visit\\anaconda3\\lib\\site-packages (from pydantic!=1.7,!=1.7.1,!=1.7.2,!=1.7.3,!=1.8,!=1.8.1,<2.0.0,>=1.6.2->fastapi->gradio) (3.7.4.3)\n",
      "Requirement already satisfied: cffi>=1.1 in c:\\users\\visit\\anaconda3\\lib\\site-packages (from bcrypt>=3.1.3->paramiko->gradio) (1.14.3)\n",
      "Requirement already satisfied: sniffio>=1.1 in c:\\users\\visit\\anaconda3\\lib\\site-packages (from anyio<4,>=3.0.0->starlette==0.17.1->fastapi->gradio) (1.2.0)\n",
      "Requirement already satisfied: pycparser in c:\\users\\visit\\anaconda3\\lib\\site-packages (from cffi>=1.1->bcrypt>=3.1.3->paramiko->gradio) (2.20)\n",
      "Building wheels for collected packages: python-multipart\n",
      "  Building wheel for python-multipart (setup.py): started\n",
      "  Building wheel for python-multipart (setup.py): finished with status 'done'\n",
      "  Created wheel for python-multipart: filename=python_multipart-0.0.5-py3-none-any.whl size=31675 sha256=037018f3030f317087ce19471b2d64e6d1ff508d2021f4d67ef9ab4e41e15b80\n",
      "  Stored in directory: c:\\users\\visit\\appdata\\local\\pip\\cache\\wheels\\9e\\fc\\1c\\cf980e6413d3ee8e70cd8f39e2366b0f487e3e221aeb452eb0\n",
      "Successfully built python-multipart\n",
      "Installing collected packages: frozenlist, charset-normalizer, multidict, yarl, async-timeout, aiosignal, aiohttp, pycryptodome, asgiref, uvicorn, markdown2, anyio, starlette, fastapi, monotonic, backoff, analytics-python, ffmpy, python-multipart, gradio\n",
      "Successfully installed aiohttp-3.8.1 aiosignal-1.2.0 analytics-python-1.4.0 anyio-3.5.0 asgiref-3.5.0 async-timeout-4.0.2 backoff-1.10.0 charset-normalizer-2.0.10 fastapi-0.73.0 ffmpy-0.3.0 frozenlist-1.3.0 gradio-2.7.5.2 markdown2-2.4.2 monotonic-1.6 multidict-6.0.2 pycryptodome-3.13.0 python-multipart-0.0.5 starlette-0.17.1 uvicorn-0.17.1 yarl-1.7.2\n"
     ]
    }
   ],
   "source": [
    "!pip install gradio"
   ]
  },
  {
   "cell_type": "code",
   "execution_count": 11,
   "metadata": {},
   "outputs": [],
   "source": [
    "import gradio as gr\n",
    "import numpy as np"
   ]
  },
  {
   "cell_type": "code",
   "execution_count": 3,
   "metadata": {},
   "outputs": [],
   "source": [
    "def hello(name):\n",
    "    return f\"Hello {name}\""
   ]
  },
  {
   "cell_type": "code",
   "execution_count": 4,
   "metadata": {},
   "outputs": [],
   "source": [
    " interface = gr.Interface(fn=hello, inputs=\"text\", outputs='text')"
   ]
  },
  {
   "cell_type": "code",
   "execution_count": 6,
   "metadata": {},
   "outputs": [],
   "source": [
    "# interface.launch()"
   ]
  },
  {
   "cell_type": "code",
   "execution_count": 8,
   "metadata": {},
   "outputs": [],
   "source": [
    "interface = gr.Interface(\n",
    "    fn=hello, \n",
    "    inputs=gr.inputs.Textbox(lines=2, placeholder=\"Enter name here ...\"), \n",
    "    outputs='text'\n",
    ")\n",
    "\n",
    "# interface.launch()"
   ]
  },
  {
   "cell_type": "code",
   "execution_count": 10,
   "metadata": {},
   "outputs": [],
   "source": [
    "def greet(name, is_morning, temperature):\n",
    "    salutation = \"Good morning\" if is_morning else \"Good afternoon\"\n",
    "    greeting = \"%s %s. It is %s degrees outside\"%(salutation, name, temperature)\n",
    "    celsius = (temperature - 32) * 5 / 9\n",
    "    return greeting, round(celsius, 2)\n",
    "\n",
    "interface = gr.Interface(\n",
    "     fn=greet, \n",
    "     inputs=[\"text\", \"checkbox\", gr.inputs.Slider(0, 100)],\n",
    "     outputs=[\"text\", \"number\"]\n",
    ")\n",
    "\n",
    "# interface.launch()"
   ]
  },
  {
   "cell_type": "code",
   "execution_count": 12,
   "metadata": {},
   "outputs": [],
   "source": [
    "def serpia(input_img):\n",
    "    sepia_filter =  np.array([[.393, .769, .189],\n",
    "                           [.349, .686, .168],\n",
    "                           [.272, .534, .131]])\n",
    "    serpia_img = input_img.dot(serpia_filter.T)\n",
    "    serpia_img /= serpia_img.max()\n",
    "    return serpia_img"
   ]
  },
  {
   "cell_type": "code",
   "execution_count": 15,
   "metadata": {},
   "outputs": [],
   "source": [
    "iface = gr.Interface(serpia, gr.inputs.Image(shape=(200, 200)), \"image\")\n",
    "\n",
    "# iface.launch()"
   ]
  },
  {
   "cell_type": "code",
   "execution_count": 17,
   "metadata": {},
   "outputs": [
    {
     "name": "stdout",
     "output_type": "stream",
     "text": [
      "Running on local URL:  http://127.0.0.1:7865/\n",
      "\n",
      "To create a public link, set `share=True` in `launch()`.\n"
     ]
    },
    {
     "data": {
      "text/html": [
       "\n",
       "        <iframe\n",
       "            width=\"900\"\n",
       "            height=\"500\"\n",
       "            src=\"http://127.0.0.1:7865/\"\n",
       "            frameborder=\"0\"\n",
       "            allowfullscreen\n",
       "        ></iframe>\n",
       "        "
      ],
      "text/plain": [
       "<IPython.lib.display.IFrame at 0x133d3d39e80>"
      ]
     },
     "metadata": {},
     "output_type": "display_data"
    },
    {
     "data": {
      "text/plain": [
       "(<fastapi.applications.FastAPI at 0x133cf32ddf0>,\n",
       " 'http://127.0.0.1:7865/',\n",
       " None)"
      ]
     },
     "execution_count": 17,
     "metadata": {},
     "output_type": "execute_result"
    },
    {
     "name": "stderr",
     "output_type": "stream",
     "text": [
      "Traceback (most recent call last):\n",
      "  File \"C:\\Users\\visit\\anaconda3\\lib\\site-packages\\gradio\\app.py\", line 199, in predict\n",
      "    prediction, durations = await run_in_threadpool(\n",
      "  File \"C:\\Users\\visit\\anaconda3\\lib\\site-packages\\starlette\\concurrency.py\", line 39, in run_in_threadpool\n",
      "    return await anyio.to_thread.run_sync(func, *args)\n",
      "  File \"C:\\Users\\visit\\anaconda3\\lib\\site-packages\\anyio\\to_thread.py\", line 28, in run_sync\n",
      "    return await get_asynclib().run_sync_in_worker_thread(func, *args, cancellable=cancellable,\n",
      "  File \"C:\\Users\\visit\\anaconda3\\lib\\site-packages\\anyio\\_backends\\_asyncio.py\", line 818, in run_sync_in_worker_thread\n",
      "    return await future\n",
      "  File \"C:\\Users\\visit\\anaconda3\\lib\\site-packages\\anyio\\_backends\\_asyncio.py\", line 754, in run\n",
      "    result = context.run(func, *args)\n",
      "  File \"C:\\Users\\visit\\anaconda3\\lib\\site-packages\\gradio\\interface.py\", line 530, in process\n",
      "    predictions, durations = self.run_prediction(\n",
      "  File \"C:\\Users\\visit\\anaconda3\\lib\\site-packages\\gradio\\interface.py\", line 487, in run_prediction\n",
      "    prediction = predict_fn(*processed_input)\n",
      "  File \"<ipython-input-17-278e0d124400>\", line 2, in chat\n",
      "    history = gr.get_state() or []\n",
      "  File \"C:\\Users\\visit\\anaconda3\\lib\\site-packages\\gradio\\app.py\", line 321, in get_state\n",
      "    raise DeprecationWarning(\n",
      "DeprecationWarning: This function is deprecated. To create stateful demos, pass 'state'as both an input and output component. Please see the getting startedguide for more information.\n"
     ]
    }
   ],
   "source": [
    "def chat(message):\n",
    "    history = gr.state() or []\n",
    "    if message.startswith(\"How many\"):\n",
    "        response = random.randint(1, 10)\n",
    "    elif message.startswith(\"How\"):\n",
    "        response = random.choice([\"Fine\", \"Great\", \"Bad\", \"Sleepy\"])\n",
    "    elif message.startswith(\"Where\"):\n",
    "        response = random.choice([\"Here\", \"In there\", \"Somewhere\"])\n",
    "    else:\n",
    "        response = \"I don't care....\"\n",
    "    history.append((message, response))\n",
    "    gr.set_state(history)\n",
    "    html = \"\"\n",
    "    for user_msg, resp_msg in history:\n",
    "        html += f\"{user_msg}\"\n",
    "        html += f\"{resp_msg}\"\n",
    "    html += \"\"\n",
    "    return html\n",
    "\n",
    "iface = gr.Interface(chat, \"text\", \"html\", css=\"\"\"\n",
    "    .chatbox {display:flex;flex-direction:column}\n",
    "    .user_msg, .resp_msg {padding:4px;margin-bottom:4px;border-radius:4px;width:80%}\n",
    "    .user_msg {background-color:cornflowerblue;color:white;align-self:start}\n",
    "    .resp_msg {background-color:lightgray;align-self:self-end}\n",
    "\"\"\", allow_screenshot=False, allow_flagging='never')\n",
    "iface.launch()        "
   ]
  },
  {
   "cell_type": "code",
   "execution_count": null,
   "metadata": {},
   "outputs": [],
   "source": []
  }
 ],
 "metadata": {
  "kernelspec": {
   "display_name": "Python 3",
   "language": "python",
   "name": "python3"
  },
  "language_info": {
   "codemirror_mode": {
    "name": "ipython",
    "version": 3
   },
   "file_extension": ".py",
   "mimetype": "text/x-python",
   "name": "python",
   "nbconvert_exporter": "python",
   "pygments_lexer": "ipython3",
   "version": "3.8.5"
  }
 },
 "nbformat": 4,
 "nbformat_minor": 4
}
